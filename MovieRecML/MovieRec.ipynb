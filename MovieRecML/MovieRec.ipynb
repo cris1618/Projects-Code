{
 "cells": [
  {
   "cell_type": "markdown",
   "metadata": {},
   "source": [
    "# Movie Recommendation Engine Project"
   ]
  },
  {
   "cell_type": "markdown",
   "metadata": {},
   "source": [
    "1. Understand the concept of Cosine Similarity"
   ]
  },
  {
   "cell_type": "code",
   "execution_count": 4,
   "metadata": {},
   "outputs": [
    {
     "name": "stdout",
     "output_type": "stream",
     "text": [
      "Output with custom function: [[2, 1], [1, 2]]\n",
      "Output with sklearn function: [[2 1]\n",
      " [1 2]]\n",
      "----------------------------------------------\n",
      "The cosine similarity is: [[1.  0.8]\n",
      " [0.8 1. ]]\n"
     ]
    }
   ],
   "source": [
    "text = [\"London Paris London\", \"Paris Paris London\"]\n",
    "\n",
    "# Define a function to count the frequence of different words\n",
    "def count_words(text):\n",
    "    tokenized_text = [sentence.split() for sentence in text]\n",
    "\n",
    "    unique_words = list(set(word for sentence in tokenized_text for word in sentence))\n",
    "\n",
    "    word_counts = []\n",
    "    for sentence in tokenized_text:\n",
    "        count = [sentence.count(word) for word in unique_words]\n",
    "        word_counts.append(count)\n",
    "    \n",
    "    return word_counts\n",
    "\n",
    "print(f\"Output with custom function: {count_words(text)}\")\n",
    "\n",
    "# The function above does the same thing as the famous scikit-learn CountVectorizer class\n",
    "from sklearn.feature_extraction.text import CountVectorizer\n",
    "\n",
    "cv = CountVectorizer()\n",
    "count_matrix = cv.fit_transform(text)\n",
    "print(f\"Output with sklearn function: {count_matrix.toarray()}\")\n",
    "\n",
    "# Now we can find the cosine similarity\n",
    "from sklearn.metrics.pairwise import cosine_similarity\n",
    "\n",
    "similarity_scores = cosine_similarity(count_matrix)\n",
    "print(\"----------------------------------------------\")\n",
    "print(f\"The cosine similarity is: {similarity_scores}\")"
   ]
  },
  {
   "cell_type": "markdown",
   "metadata": {},
   "source": [
    "2. Build the Movie Recommendation Engine"
   ]
  },
  {
   "cell_type": "code",
   "execution_count": 14,
   "metadata": {},
   "outputs": [
    {
     "name": "stderr",
     "output_type": "stream",
     "text": [
      "C:\\Users\\Utente\\AppData\\Local\\Temp\\ipykernel_22332\\2450027460.py:23: FutureWarning: Setting an item of incompatible dtype is deprecated and will raise an error in a future version of pandas. Value '' has dtype incompatible with float64, please explicitly cast to a compatible dtype first.\n",
      "  df.fillna(\"\", inplace=True)\n"
     ]
    },
    {
     "name": "stdout",
     "output_type": "stream",
     "text": [
      "Avatar\n",
      "Guardians of the Galaxy\n",
      "Aliens\n",
      "Star Wars: Clone Wars: Volume 1\n",
      "Star Trek Into Darkness\n",
      "Star Trek Beyond\n",
      "Alien\n",
      "Lockout\n",
      "Jason X\n",
      "The Helix... Loaded\n",
      "Moonraker\n",
      "Planet of the Apes\n",
      "Galaxy Quest\n",
      "Gravity\n",
      "Alien³\n",
      "Jupiter Ascending\n",
      "The Wolverine\n",
      "Silent Running\n",
      "Zathura: A Space Adventure\n",
      "Trekkies\n",
      "Cargo\n",
      "Wing Commander\n",
      "Star Trek\n",
      "Lost in Space\n",
      "Babylon A.D.\n",
      "The Fifth Element\n",
      "Oblivion\n",
      "Titan A.E.\n",
      "AVP: Alien vs. Predator\n",
      "The Empire Strikes Back\n",
      "Dragonball Evolution\n",
      "Superman Returns\n",
      "Divergent\n",
      "John Carter\n",
      "The Black Hole\n",
      "The Ice Pirates\n",
      "Memoirs of an Invisible Man\n",
      "Starship Troopers\n",
      "The Astronaut's Wife\n",
      "Machete Kills\n",
      "Soldier\n",
      "The Abyss\n",
      "Damnation Alley\n",
      "Men in Black\n",
      "Space Cowboys\n",
      "Space Dogs\n",
      "The Time Machine\n",
      "Sheena\n",
      "Captain America: Civil War\n",
      "Star Trek: Insurrection\n"
     ]
    }
   ],
   "source": [
    "import pandas as pd\n",
    "import numpy as np\n",
    "from sklearn.feature_extraction.text import CountVectorizer\n",
    "from sklearn.metrics.pairwise import cosine_similarity\n",
    "\n",
    "# Helper functions\n",
    "def get_title_from_index(index):\n",
    "    return df[df.index == index][\"title\"].values[0]\n",
    "\n",
    "def get_index_from_title(title):\n",
    "    return df[df.title == title][\"index\"].values[0]\n",
    "\n",
    "# Read CSV file\n",
    "#filepath = \"C:\\Users\\Utente\\OneDrive\\Desktop\\Movie Recommendation Engine Project\\movie_dataset.csv\"\n",
    "df = pd.read_csv(\"movie_dataset.csv\")\n",
    "#print(df.columns)\n",
    "\n",
    "# Select Features\n",
    "features = [\"keywords\", \"cast\", \"genres\", \"director\"]\n",
    "\n",
    "# Create a column in df which combines all selected features\n",
    "# Fill NaN values with empty string\n",
    "df.fillna(\"\", inplace=True)\n",
    "\n",
    "def combine_features(row):\n",
    "    return row[\"keywords\"] + \" \" + row[\"cast\"] + \" \" + row[\"genres\"] + \" \" + row[\"director\"]\n",
    "\n",
    "df[\"combined_features\"] = df.apply(combine_features, axis=1)\n",
    "\n",
    "# Create Count Matrix from this new combined column\n",
    "cv = CountVectorizer()\n",
    "count_matrix = cv.fit_transform(df[\"combined_features\"])\n",
    "\n",
    "# Compute the Cosine Similarity based on the count_matrix\n",
    "similarity_scores = cosine_similarity(count_matrix)\n",
    "\n",
    "# Movie that user likes, to compare with other similar movies\n",
    "movie_user_liked = \"Avatar\"\n",
    "\n",
    "# Get index of this movie from its title\n",
    "movie_index = get_index_from_title(movie_user_liked)\n",
    "\n",
    "similar_movies = list(enumerate(similarity_scores[movie_index]))\n",
    "\n",
    "# Get a list of similar movies in descending order of similarity score\n",
    "sorted_similar_movies = sorted(similar_movies, key=lambda x:x[1], reverse=True)\n",
    "\n",
    "# Print titles of the first 50 movies\n",
    "i = 0\n",
    "for movie in sorted_similar_movies:\n",
    "    print(get_title_from_index(movie[0]))\n",
    "    i += 1\n",
    "    if i >= 50:\n",
    "        break"
   ]
  }
 ],
 "metadata": {
  "kernelspec": {
   "display_name": "Python 3",
   "language": "python",
   "name": "python3"
  },
  "language_info": {
   "codemirror_mode": {
    "name": "ipython",
    "version": 3
   },
   "file_extension": ".py",
   "mimetype": "text/x-python",
   "name": "python",
   "nbconvert_exporter": "python",
   "pygments_lexer": "ipython3",
   "version": "3.11.5"
  }
 },
 "nbformat": 4,
 "nbformat_minor": 2
}
